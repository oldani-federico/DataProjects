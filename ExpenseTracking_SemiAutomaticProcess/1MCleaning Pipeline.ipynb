{
 "cells": [
  {
   "cell_type": "markdown",
   "metadata": {},
   "source": [
    "## Cleaning Expense Tracking File Export"
   ]
  },
  {
   "cell_type": "markdown",
   "metadata": {},
   "source": [
    "#### Importing necessary packages:"
   ]
  },
  {
   "cell_type": "code",
   "execution_count": 1,
   "metadata": {
    "ExecuteTime": {
     "end_time": "2020-07-07T21:49:10.219741Z",
     "start_time": "2020-07-07T21:49:09.451920Z"
    }
   },
   "outputs": [],
   "source": [
    "import pandas as pd\n",
    "pd.set_option(\"display.max_rows\", None, \"display.max_columns\", None)\n",
    "import datetime\n",
    "import re"
   ]
  },
  {
   "cell_type": "markdown",
   "metadata": {},
   "source": [
    "#### Building flexible file path name:"
   ]
  },
  {
   "cell_type": "code",
   "execution_count": 2,
   "metadata": {
    "ExecuteTime": {
     "end_time": "2020-07-07T21:49:10.232873Z",
     "start_time": "2020-07-07T21:49:10.222771Z"
    }
   },
   "outputs": [],
   "source": [
    "x = datetime.datetime.now()\n",
    "\n",
    "Y = str(x.year)[2:]\n",
    "M = str(x.month)\n",
    "D = str(x.day)\n",
    "\n",
    "path = str('C:/Users/fede2/OneDrive - University of Miami/1M/1Money_' + M + '_' + D + '_' + Y + '.csv')"
   ]
  },
  {
   "cell_type": "markdown",
   "metadata": {},
   "source": [
    "#### Defining functions to clean specific columns:"
   ]
  },
  {
   "cell_type": "code",
   "execution_count": 3,
   "metadata": {
    "ExecuteTime": {
     "end_time": "2020-07-07T21:49:10.249659Z",
     "start_time": "2020-07-07T21:49:10.238692Z"
    }
   },
   "outputs": [],
   "source": [
    "def CleanCategory(c):\n",
    "    if re.search('\\(.*', c):\n",
    "        pos = re.search('\\(.*', c).start()\n",
    "        return c[pos+1:-1]\n",
    "    else:\n",
    "        return c\n",
    "\n",
    "def CleanSubcategory(c):\n",
    "    if re.search('\\(.*', c):\n",
    "        pos = re.search('\\(.*', c).start()\n",
    "        return c[:pos]\n",
    "    else:\n",
    "        return c"
   ]
  },
  {
   "cell_type": "markdown",
   "metadata": {},
   "source": [
    "#### Reading in and cleaning daily data:"
   ]
  },
  {
   "cell_type": "code",
   "execution_count": 4,
   "metadata": {
    "ExecuteTime": {
     "end_time": "2020-07-07T21:49:10.290138Z",
     "start_time": "2020-07-07T21:49:10.253227Z"
    }
   },
   "outputs": [
    {
     "data": {
      "text/html": [
       "<div>\n",
       "<style scoped>\n",
       "    .dataframe tbody tr th:only-of-type {\n",
       "        vertical-align: middle;\n",
       "    }\n",
       "\n",
       "    .dataframe tbody tr th {\n",
       "        vertical-align: top;\n",
       "    }\n",
       "\n",
       "    .dataframe thead th {\n",
       "        text-align: right;\n",
       "    }\n",
       "</style>\n",
       "<table border=\"1\" class=\"dataframe\">\n",
       "  <thead>\n",
       "    <tr style=\"text-align: right;\">\n",
       "      <th></th>\n",
       "      <th>DATE</th>\n",
       "      <th>TYPE</th>\n",
       "      <th>FROM ACCOUNT</th>\n",
       "      <th>TO ACCOUNT / TO CATEGORY</th>\n",
       "      <th>AMOUNT</th>\n",
       "      <th>CURRENCY</th>\n",
       "      <th>AMOUNT 2</th>\n",
       "      <th>CURRENCY 2</th>\n",
       "      <th>TAGS</th>\n",
       "      <th>NOTES</th>\n",
       "    </tr>\n",
       "  </thead>\n",
       "  <tbody>\n",
       "    <tr>\n",
       "      <th>0</th>\n",
       "      <td>7/7/20</td>\n",
       "      <td>Expense</td>\n",
       "      <td>Sapphire</td>\n",
       "      <td>Groceries (Publix)</td>\n",
       "      <td>137.56</td>\n",
       "      <td>USD</td>\n",
       "      <td>137.56</td>\n",
       "      <td>USD</td>\n",
       "      <td>NaN</td>\n",
       "      <td>NaN</td>\n",
       "    </tr>\n",
       "    <tr>\n",
       "      <th>1</th>\n",
       "      <td>7/5/20</td>\n",
       "      <td>Expense</td>\n",
       "      <td>Sapphire</td>\n",
       "      <td>Groceries</td>\n",
       "      <td>9.68</td>\n",
       "      <td>USD</td>\n",
       "      <td>9.68</td>\n",
       "      <td>USD</td>\n",
       "      <td>NaN</td>\n",
       "      <td>7Eleven</td>\n",
       "    </tr>\n",
       "    <tr>\n",
       "      <th>2</th>\n",
       "      <td>7/5/20</td>\n",
       "      <td>Transfer</td>\n",
       "      <td>Checking</td>\n",
       "      <td>Visa</td>\n",
       "      <td>78.21</td>\n",
       "      <td>USD</td>\n",
       "      <td>78.21</td>\n",
       "      <td>USD</td>\n",
       "      <td>NaN</td>\n",
       "      <td>NaN</td>\n",
       "    </tr>\n",
       "    <tr>\n",
       "      <th>3</th>\n",
       "      <td>7/4/20</td>\n",
       "      <td>Transfer</td>\n",
       "      <td>Checking</td>\n",
       "      <td>Amex</td>\n",
       "      <td>59.50</td>\n",
       "      <td>USD</td>\n",
       "      <td>59.50</td>\n",
       "      <td>USD</td>\n",
       "      <td>NaN</td>\n",
       "      <td>NaN</td>\n",
       "    </tr>\n",
       "    <tr>\n",
       "      <th>4</th>\n",
       "      <td>7/3/20</td>\n",
       "      <td>Expense</td>\n",
       "      <td>Sapphire</td>\n",
       "      <td>Groceries (Publix)</td>\n",
       "      <td>121.29</td>\n",
       "      <td>USD</td>\n",
       "      <td>121.29</td>\n",
       "      <td>USD</td>\n",
       "      <td>NaN</td>\n",
       "      <td>NaN</td>\n",
       "    </tr>\n",
       "  </tbody>\n",
       "</table>\n",
       "</div>"
      ],
      "text/plain": [
       "     DATE      TYPE FROM ACCOUNT TO ACCOUNT / TO CATEGORY  AMOUNT CURRENCY  \\\n",
       "0  7/7/20   Expense     Sapphire       Groceries (Publix)  137.56      USD   \n",
       "1  7/5/20   Expense     Sapphire                Groceries    9.68      USD   \n",
       "2  7/5/20  Transfer    Checking                      Visa   78.21      USD   \n",
       "3  7/4/20  Transfer    Checking                      Amex   59.50      USD   \n",
       "4  7/3/20   Expense     Sapphire       Groceries (Publix)  121.29      USD   \n",
       "\n",
       "   AMOUNT 2 CURRENCY 2  TAGS    NOTES  \n",
       "0    137.56        USD   NaN      NaN  \n",
       "1      9.68        USD   NaN  7Eleven  \n",
       "2     78.21        USD   NaN      NaN  \n",
       "3     59.50        USD   NaN      NaN  \n",
       "4    121.29        USD   NaN      NaN  "
      ]
     },
     "execution_count": 4,
     "metadata": {},
     "output_type": "execute_result"
    }
   ],
   "source": [
    "data = pd.read_csv(path)\n",
    "data.head()"
   ]
  },
  {
   "cell_type": "code",
   "execution_count": 5,
   "metadata": {
    "ExecuteTime": {
     "end_time": "2020-07-07T21:49:10.310998Z",
     "start_time": "2020-07-07T21:49:10.292923Z"
    },
    "code_folding": []
   },
   "outputs": [],
   "source": [
    "# Eliminating summary rows at the end of the csv file\n",
    "data = data[:-9]\n",
    "\n",
    "# Renaming columns to keep\n",
    "data = data.rename(columns={\"DATE\":\"Date\",\n",
    "                             \"TYPE\":\"Type\",\n",
    "                             \"FROM ACCOUNT\":\"Account\",\n",
    "                             \"TO ACCOUNT / TO CATEGORY\":\"Category\",\n",
    "                             \"AMOUNT\":\"Amount\",\n",
    "                             \"NOTES\":\"Notes\"})\n",
    "\n",
    "# Creating Subcategory\n",
    "data[\"Subcategory\"] = data[\"Category\"]\n",
    "\n",
    "# Cleaning Category and Subcategory with designated defined functions:\n",
    "data['Category'] = data['Category'].apply(CleanSubcategory).str.strip()\n",
    "data['Subcategory'] = data['Subcategory'].apply(CleanCategory).str.strip()\n",
    "\n",
    "# Removing white spaces and filling nulls\n",
    "data['Account'] = data['Account'].str.strip()\n",
    "data['Notes'] = data['Notes'].str.rstrip()\n",
    "data[\"Notes\"].fillna(\"NoEntry\", inplace=True)\n",
    "\n",
    "# Selecting the final columns\n",
    "data = data[[\"Date\", \"Type\", \"Account\", \"Category\", \"Subcategory\", \"Amount\", \"Notes\"]]"
   ]
  },
  {
   "cell_type": "markdown",
   "metadata": {},
   "source": [
    "#### Writing cleaned dataset to designated csv file:"
   ]
  },
  {
   "cell_type": "code",
   "execution_count": 6,
   "metadata": {
    "ExecuteTime": {
     "end_time": "2020-07-07T21:49:10.336426Z",
     "start_time": "2020-07-07T21:49:10.312537Z"
    }
   },
   "outputs": [
    {
     "data": {
      "text/html": [
       "<div>\n",
       "<style scoped>\n",
       "    .dataframe tbody tr th:only-of-type {\n",
       "        vertical-align: middle;\n",
       "    }\n",
       "\n",
       "    .dataframe tbody tr th {\n",
       "        vertical-align: top;\n",
       "    }\n",
       "\n",
       "    .dataframe thead th {\n",
       "        text-align: right;\n",
       "    }\n",
       "</style>\n",
       "<table border=\"1\" class=\"dataframe\">\n",
       "  <thead>\n",
       "    <tr style=\"text-align: right;\">\n",
       "      <th></th>\n",
       "      <th>Date</th>\n",
       "      <th>Type</th>\n",
       "      <th>Account</th>\n",
       "      <th>Category</th>\n",
       "      <th>Subcategory</th>\n",
       "      <th>Amount</th>\n",
       "      <th>Notes</th>\n",
       "    </tr>\n",
       "  </thead>\n",
       "  <tbody>\n",
       "    <tr>\n",
       "      <th>0</th>\n",
       "      <td>7/7/20</td>\n",
       "      <td>Expense</td>\n",
       "      <td>Sapphire</td>\n",
       "      <td>Groceries</td>\n",
       "      <td>Publix</td>\n",
       "      <td>137.56</td>\n",
       "      <td>NoEntry</td>\n",
       "    </tr>\n",
       "    <tr>\n",
       "      <th>1</th>\n",
       "      <td>7/5/20</td>\n",
       "      <td>Expense</td>\n",
       "      <td>Sapphire</td>\n",
       "      <td>Groceries</td>\n",
       "      <td>Groceries</td>\n",
       "      <td>9.68</td>\n",
       "      <td>7Eleven</td>\n",
       "    </tr>\n",
       "    <tr>\n",
       "      <th>2</th>\n",
       "      <td>7/5/20</td>\n",
       "      <td>Transfer</td>\n",
       "      <td>Checking</td>\n",
       "      <td>Visa</td>\n",
       "      <td>Visa</td>\n",
       "      <td>78.21</td>\n",
       "      <td>NoEntry</td>\n",
       "    </tr>\n",
       "    <tr>\n",
       "      <th>3</th>\n",
       "      <td>7/4/20</td>\n",
       "      <td>Transfer</td>\n",
       "      <td>Checking</td>\n",
       "      <td>Amex</td>\n",
       "      <td>Amex</td>\n",
       "      <td>59.50</td>\n",
       "      <td>NoEntry</td>\n",
       "    </tr>\n",
       "    <tr>\n",
       "      <th>4</th>\n",
       "      <td>7/3/20</td>\n",
       "      <td>Expense</td>\n",
       "      <td>Sapphire</td>\n",
       "      <td>Groceries</td>\n",
       "      <td>Publix</td>\n",
       "      <td>121.29</td>\n",
       "      <td>NoEntry</td>\n",
       "    </tr>\n",
       "  </tbody>\n",
       "</table>\n",
       "</div>"
      ],
      "text/plain": [
       "     Date      Type   Account   Category Subcategory  Amount    Notes\n",
       "0  7/7/20   Expense  Sapphire  Groceries      Publix  137.56  NoEntry\n",
       "1  7/5/20   Expense  Sapphire  Groceries   Groceries    9.68  7Eleven\n",
       "2  7/5/20  Transfer  Checking       Visa        Visa   78.21  NoEntry\n",
       "3  7/4/20  Transfer  Checking       Amex        Amex   59.50  NoEntry\n",
       "4  7/3/20   Expense  Sapphire  Groceries      Publix  121.29  NoEntry"
      ]
     },
     "execution_count": 6,
     "metadata": {},
     "output_type": "execute_result"
    }
   ],
   "source": [
    "data.to_csv('C:/Users/fede2/OneDrive - University of Miami/1M/The1M_File/ExpenseTrackingCLEAN.csv', index=False)\n",
    "data.head()"
   ]
  }
 ],
 "metadata": {
  "kernelspec": {
   "display_name": "Python 3",
   "language": "python",
   "name": "python3"
  },
  "language_info": {
   "codemirror_mode": {
    "name": "ipython",
    "version": 3
   },
   "file_extension": ".py",
   "mimetype": "text/x-python",
   "name": "python",
   "nbconvert_exporter": "python",
   "pygments_lexer": "ipython3",
   "version": "3.7.6"
  },
  "varInspector": {
   "cols": {
    "lenName": 16,
    "lenType": 16,
    "lenVar": 40
   },
   "kernels_config": {
    "python": {
     "delete_cmd_postfix": "",
     "delete_cmd_prefix": "del ",
     "library": "var_list.py",
     "varRefreshCmd": "print(var_dic_list())"
    },
    "r": {
     "delete_cmd_postfix": ") ",
     "delete_cmd_prefix": "rm(",
     "library": "var_list.r",
     "varRefreshCmd": "cat(var_dic_list()) "
    }
   },
   "types_to_exclude": [
    "module",
    "function",
    "builtin_function_or_method",
    "instance",
    "_Feature"
   ],
   "window_display": false
  }
 },
 "nbformat": 4,
 "nbformat_minor": 4
}
